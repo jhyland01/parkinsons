{
 "cells": [
  {
   "attachments": {},
   "cell_type": "markdown",
   "metadata": {},
   "source": [
    "https://www.mdpi.com/1424-8220/16/1/115/html#B49-sensors-16-00115"
   ]
  },
  {
   "cell_type": "code",
   "execution_count": null,
   "metadata": {},
   "outputs": [],
   "source": [
    "import torch\n",
    "from torch import nn\n",
    "\n",
    "class Net(nn.Module):\n",
    "    def __init__(self, BATCH_SIZE, SLIDING_WINDOW_LENGTH, NB_SENSOR_CHANNELS, NUM_FILTERS, FILTER_SIZE, NUM_UNITS_LSTM, NUM_CLASSES, FINAL_SEQUENCE_LENGTH):\n",
    "        super(Net, self).__init__()\n",
    "\n",
    "        self.conv1 = nn.Conv2d(1, NUM_FILTERS, (FILTER_SIZE, 1))\n",
    "        self.conv2 = nn.Conv2d(NUM_FILTERS, NUM_FILTERS, (FILTER_SIZE, 1))\n",
    "        self.conv3 = nn.Conv2d(NUM_FILTERS, NUM_FILTERS, (FILTER_SIZE, 1))\n",
    "        self.conv4 = nn.Conv2d(NUM_FILTERS, NUM_FILTERS, (FILTER_SIZE, 1))\n",
    "\n",
    "        self.lstm1 = nn.LSTM(NUM_FILTERS, NUM_UNITS_LSTM, batch_first=True)\n",
    "        self.lstm2 = nn.LSTM(NUM_UNITS_LSTM, NUM_UNITS_LSTM, batch_first=True)\n",
    "\n",
    "        self.fc1 = nn.Linear(NUM_UNITS_LSTM, NUM_CLASSES)\n",
    "\n",
    "        self.batch_size = BATCH_SIZE\n",
    "        self.final_sequence_length = FINAL_SEQUENCE_LENGTH\n",
    "        self.num_classes = NUM_CLASSES\n",
    "\n",
    "    def forward(self, x):\n",
    "        x = self.conv1(x)\n",
    "        x = self.conv2(x)\n",
    "        x = self.conv3(x)\n",
    "        x = self.conv4(x)\n",
    "\n",
    "        # swap dimensions to make sequence second dimension\n",
    "        x = x.permute(0, 2, 1, 3).contiguous()\n",
    "\n",
    "        # flatten dimensions for LSTM\n",
    "        b, s, c, _ = x.size()\n",
    "        x = x.view(b, s, c)\n",
    "\n",
    "        x, _ = self.lstm1(x)\n",
    "        x, _ = self.lstm2(x)\n",
    "\n",
    "        x = x.contiguous().view(-1, x.size(-1))\n",
    "        x = self.fc1(x)\n",
    "\n",
    "        x = x.view(self.batch_size, self.final_sequence_length, self.num_classes)\n",
    "\n",
    "        # use only the last sequence\n",
    "        x = x[:, -1, :]\n",
    "\n",
    "        return x\n"
   ]
  }
 ],
 "metadata": {
  "language_info": {
   "name": "python"
  },
  "orig_nbformat": 4
 },
 "nbformat": 4,
 "nbformat_minor": 2
}
