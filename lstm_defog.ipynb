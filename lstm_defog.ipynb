{
  "cells": [
    {
      "cell_type": "code",
      "execution_count": 1,
      "metadata": {},
      "outputs": [
        {
          "name": "stderr",
          "output_type": "stream",
          "text": [
            "/var/folders/wh/srwjqw_j5gsbl1y7xdb9jc900000gn/T/ipykernel_19116/2559070832.py:3: DtypeWarning: Columns (8) have mixed types. Specify dtype option on import or set low_memory=False.\n",
            "  cpd = pd.read_csv('./cpd_data/all_data.csv', index_col=0)\n"
          ]
        },
        {
          "data": {
            "text/plain": [
              "AccV               0\n",
              "AccML              0\n",
              "AccAP              0\n",
              "StartHesitation    0\n",
              "Turn               0\n",
              "Walking            0\n",
              "Source             0\n",
              "SeriesId           0\n",
              "Time               0\n",
              "dtype: int64"
            ]
          },
          "execution_count": 1,
          "metadata": {},
          "output_type": "execute_result"
        }
      ],
      "source": [
        "import pandas as pd\n",
        "import matplotlib.pyplot as plt\n",
        "cpd = pd.read_csv('./cpd_data/all_data.csv', index_col=0)\n",
        "# check for nan values\n",
        "cpd.isnull().sum()\n",
        "# fill nan values with 0\n",
        "# cpd[['StartHesitation', 'Turn', 'Walking']] = cpd[['StartHesitation', 'Turn', 'Walking']].fillna(method='ffill')\n",
        "# check for nan values\n",
        "cpd.isnull().sum()"
      ]
    },
    {
      "cell_type": "code",
      "execution_count": 2,
      "metadata": {},
      "outputs": [
        {
          "name": "stderr",
          "output_type": "stream",
          "text": [
            "/var/folders/wh/srwjqw_j5gsbl1y7xdb9jc900000gn/T/ipykernel_19116/2817975907.py:29: SettingWithCopyWarning: \n",
            "A value is trying to be set on a copy of a slice from a DataFrame.\n",
            "Try using .loc[row_indexer,col_indexer] = value instead\n",
            "\n",
            "See the caveats in the documentation: https://pandas.pydata.org/pandas-docs/stable/user_guide/indexing.html#returning-a-view-versus-a-copy\n",
            "  df[col] = df[col].astype('category')\n",
            "/var/folders/wh/srwjqw_j5gsbl1y7xdb9jc900000gn/T/ipykernel_19116/2817975907.py:23: SettingWithCopyWarning: \n",
            "A value is trying to be set on a copy of a slice from a DataFrame.\n",
            "Try using .loc[row_indexer,col_indexer] = value instead\n",
            "\n",
            "See the caveats in the documentation: https://pandas.pydata.org/pandas-docs/stable/user_guide/indexing.html#returning-a-view-versus-a-copy\n",
            "  df[col] = df[col].astype(np.float16)\n",
            "/var/folders/wh/srwjqw_j5gsbl1y7xdb9jc900000gn/T/ipykernel_19116/2817975907.py:23: SettingWithCopyWarning: \n",
            "A value is trying to be set on a copy of a slice from a DataFrame.\n",
            "Try using .loc[row_indexer,col_indexer] = value instead\n",
            "\n",
            "See the caveats in the documentation: https://pandas.pydata.org/pandas-docs/stable/user_guide/indexing.html#returning-a-view-versus-a-copy\n",
            "  df[col] = df[col].astype(np.float16)\n"
          ]
        },
        {
          "name": "stdout",
          "output_type": "stream",
          "text": [
            "Mem. usage decreased to 373.10 Mb (70.3% reduction)\n"
          ]
        },
        {
          "name": "stderr",
          "output_type": "stream",
          "text": [
            "/var/folders/wh/srwjqw_j5gsbl1y7xdb9jc900000gn/T/ipykernel_19116/2817975907.py:23: SettingWithCopyWarning: \n",
            "A value is trying to be set on a copy of a slice from a DataFrame.\n",
            "Try using .loc[row_indexer,col_indexer] = value instead\n",
            "\n",
            "See the caveats in the documentation: https://pandas.pydata.org/pandas-docs/stable/user_guide/indexing.html#returning-a-view-versus-a-copy\n",
            "  df[col] = df[col].astype(np.float16)\n",
            "/var/folders/wh/srwjqw_j5gsbl1y7xdb9jc900000gn/T/ipykernel_19116/2817975907.py:14: SettingWithCopyWarning: \n",
            "A value is trying to be set on a copy of a slice from a DataFrame.\n",
            "Try using .loc[row_indexer,col_indexer] = value instead\n",
            "\n",
            "See the caveats in the documentation: https://pandas.pydata.org/pandas-docs/stable/user_guide/indexing.html#returning-a-view-versus-a-copy\n",
            "  df[col] = df[col].astype(np.int8)\n",
            "/var/folders/wh/srwjqw_j5gsbl1y7xdb9jc900000gn/T/ipykernel_19116/2817975907.py:14: SettingWithCopyWarning: \n",
            "A value is trying to be set on a copy of a slice from a DataFrame.\n",
            "Try using .loc[row_indexer,col_indexer] = value instead\n",
            "\n",
            "See the caveats in the documentation: https://pandas.pydata.org/pandas-docs/stable/user_guide/indexing.html#returning-a-view-versus-a-copy\n",
            "  df[col] = df[col].astype(np.int8)\n",
            "/var/folders/wh/srwjqw_j5gsbl1y7xdb9jc900000gn/T/ipykernel_19116/2817975907.py:14: SettingWithCopyWarning: \n",
            "A value is trying to be set on a copy of a slice from a DataFrame.\n",
            "Try using .loc[row_indexer,col_indexer] = value instead\n",
            "\n",
            "See the caveats in the documentation: https://pandas.pydata.org/pandas-docs/stable/user_guide/indexing.html#returning-a-view-versus-a-copy\n",
            "  df[col] = df[col].astype(np.int8)\n"
          ]
        },
        {
          "data": {
            "text/plain": [
              "0"
            ]
          },
          "execution_count": 2,
          "metadata": {},
          "output_type": "execute_result"
        }
      ],
      "source": [
        "import gc\n",
        "import numpy as np\n",
        "\n",
        "def reduce_mem_usage(df, verbose=True):\n",
        "    numerics = ['int16', 'int32', 'int64', 'float16', 'float32', 'float64']\n",
        "    start_mem = df.memory_usage().sum() / 1024**2    \n",
        "    for col in df.columns:\n",
        "        col_type = df[col].dtypes\n",
        "        if col_type in numerics:\n",
        "            c_min = df[col].min()\n",
        "            c_max = df[col].max()\n",
        "            if str(col_type)[:3] == 'int':\n",
        "                if c_min > np.iinfo(np.int8).min and c_max < np.iinfo(np.int8).max:\n",
        "                    df[col] = df[col].astype(np.int8)\n",
        "                elif c_min > np.iinfo(np.int16).min and c_max < np.iinfo(np.int16).max:\n",
        "                    df[col] = df[col].astype(np.int16)\n",
        "                elif c_min > np.iinfo(np.int32).min and c_max < np.iinfo(np.int32).max:\n",
        "                    df[col] = df[col].astype(np.int32)\n",
        "                elif c_min > np.iinfo(np.int64).min and c_max < np.iinfo(np.int64).max:\n",
        "                    df[col] = df[col].astype(np.int64)  \n",
        "            else:\n",
        "                if c_min > np.finfo(np.float16).min and c_max < np.finfo(np.float16).max:\n",
        "                    df[col] = df[col].astype(np.float16)\n",
        "                elif c_min > np.finfo(np.float32).min and c_max < np.finfo(np.float32).max:\n",
        "                    df[col] = df[col].astype(np.float32)\n",
        "                else:\n",
        "                    df[col] = df[col].astype(np.float64)    \n",
        "        else:\n",
        "            df[col] = df[col].astype('category')\n",
        "\n",
        "    end_mem = df.memory_usage().sum() / 1024**2\n",
        "    if verbose: print('Mem. usage decreased to {:5.2f} Mb ({:.1f}% reduction)'.format(end_mem, 100 * (start_mem - end_mem) / start_mem))\n",
        "    return df\n",
        "# Select the input columns: 'AccV', 'AccML', 'AccAP'\n",
        "input_data = cpd[['SeriesId', 'AccV', 'AccML', 'AccAP', 'StartHesitation', 'Turn', 'Walking']]\n",
        "input_data = reduce_mem_usage(input_data)\n",
        "del cpd\n",
        "gc.collect()\n"
      ]
    },
    {
      "cell_type": "code",
      "execution_count": 3,
      "metadata": {},
      "outputs": [],
      "source": [
        "from sklearn.preprocessing import StandardScaler\n",
        "from sklearn.model_selection import train_test_split\n",
        "\n",
        "# Assuming train_data and test_data are Pandas DataFrame\n",
        "\n",
        "# Select columns to scale\n",
        "columns_to_scale = ['AccV', 'AccML', 'AccAP']\n",
        "\n",
        "# Initialize a new StandardScaler instance\n",
        "scaler = StandardScaler()\n",
        "\n",
        "# Fit the scaler to the training data and transform it\n",
        "input_data[columns_to_scale] = scaler.fit_transform(input_data[columns_to_scale])"
      ]
    },
    {
      "cell_type": "code",
      "execution_count": 4,
      "metadata": {},
      "outputs": [],
      "source": [
        "# import pickle\n",
        "\n",
        "# # Fit the scaler to your data\n",
        "# scaler.fit(input_data[columns_to_scale])\n",
        "\n",
        "# # Save the scaler to a file\n",
        "# with open('scaler.pkl', 'wb') as f:\n",
        "#     pickle.dump(scaler, f)\n"
      ]
    },
    {
      "cell_type": "code",
      "execution_count": 4,
      "metadata": {},
      "outputs": [],
      "source": [
        "# Calculate the number of data points for each series\n",
        "series_lengths = input_data.groupby('SeriesId').size()\n",
        "\n",
        "# Choose a threshold for separating short and long series\n",
        "# Here we use the median length as an example\n",
        "threshold = series_lengths.median()\n",
        "\n",
        "# Identify short and long series\n",
        "short_series_ids = series_lengths[series_lengths <= threshold].index\n",
        "long_series_ids = series_lengths[series_lengths > threshold].index\n",
        "\n",
        "# Split the dataframe into two based on these IDs\n",
        "defog_data = input_data[input_data['SeriesId'].isin(short_series_ids)]\n",
        "tdcsfog_data = input_data[input_data['SeriesId'].isin(long_series_ids)]"
      ]
    },
    {
      "cell_type": "code",
      "execution_count": 14,
      "metadata": {},
      "outputs": [],
      "source": [
        "input_data = tdcsfog_data"
      ]
    },
    {
      "cell_type": "code",
      "execution_count": 26,
      "metadata": {},
      "outputs": [],
      "source": [
        "import numpy as np\n",
        "import gc\n",
        "import torch\n",
        "import torch.nn as nn\n",
        "import torch.optim as optim\n",
        "\n",
        "# Set random seed for reproducibility\n",
        "torch.manual_seed(42)\n",
        "\n",
        "# set device\n",
        "device = torch.device('mps')\n",
        "\n",
        "class LSTMModel(nn.Module):\n",
        "    def __init__(self, input_size, hidden_size, output_size):\n",
        "        super(LSTMModel, self).__init__()\n",
        "        self.hidden_size = hidden_size\n",
        "        self.lstm1 = nn.LSTM(input_size, hidden_size, batch_first=True, bidirectional=True)\n",
        "        self.layer_norm = nn.LayerNorm(hidden_size * 2)\n",
        "        self.fc = nn.Linear(hidden_size * 2, output_size)  # Adjust the input size for the fc layer due to bidirectionality\n",
        "\n",
        "    def forward(self, x):\n",
        "        x, _ = self.lstm1(x)\n",
        "        x = self.layer_norm(x)\n",
        "        x = x[:, -1, :]  # Gets the last output of each sequence\n",
        "        output = self.fc(torch.relu(x))\n",
        "        output = torch.sigmoid(output)\n",
        "        return output\n",
        "\n",
        "\n",
        "input_size = 3    # Number of input features (e.g., AccV, AccML, AccAP)\n",
        "hidden_size = 6 # Number of hidden units in LSTM\n",
        "output_size = 3   # Number of output units (e.g., StartHesitation, Turn, Walking)\n",
        "\n",
        "# Initialize model\n",
        "model = LSTMModel(input_size, hidden_size, output_size).to(device)\n",
        "\n",
        "# Loss function\n",
        "criterion = nn.BCELoss().to(device)\n",
        "\n"
      ]
    },
    {
      "cell_type": "code",
      "execution_count": 17,
      "metadata": {},
      "outputs": [],
      "source": [
        "from torch.utils.data import TensorDataset, DataLoader\n",
        "\n",
        "def create_sequences(data, seq_length):\n",
        "    sequences = []\n",
        "    targets = []\n",
        "    unique_series = data['SeriesId'].unique()\n",
        "\n",
        "    for series in unique_series:\n",
        "        sub_df = data[data['SeriesId'] == series]\n",
        "        for i in range(len(sub_df) - seq_length):\n",
        "            sequences.append(sub_df.iloc[i:i + seq_length][['AccV', 'AccML', 'AccAP']].values)\n",
        "            targets.append(sub_df.iloc[i + seq_length][['StartHesitation', 'Turn', 'Walking']].values)\n",
        "\n",
        "    return np.array(sequences), np.array(targets)\n",
        "\n",
        "seq_length = 25\n",
        "\n",
        "# Split unique SeriesIds into train and test sets\n",
        "unique_series_ids = input_data['SeriesId'].unique()\n",
        "# train_series_ids, test_series_ids = train_test_split(unique_series_ids, test_size=0.1, random_state=42)\n",
        "\n",
        "# Create train and test sets based on the split SeriesIds\n",
        "# train_data = input_data[input_data['SeriesId'].isin(train_series_ids)]\n",
        "# test_data = input_data[input_data['SeriesId'].isin(test_series_ids)]\n",
        "\n",
        "# Create train and test sequences\n",
        "train_sequences, train_targets = create_sequences(input_data, seq_length)\n",
        "# test_sequences, test_targets = create_sequences(test_data, seq_length)\n",
        "\n",
        "np.save('sequences/train_sequences_tdcsfog.npy', train_sequences)\n",
        "np.save('sequences/train_targets_tdcsfog.npy', train_targets)\n",
        "# np.save('sequences/test_sequences_tdcsfog.npy', test_sequences)\n",
        "# np.save('sequences/test_targets_tdcsfog.npy', test_targets)\n",
        "\n",
        "# np.save('sequences/train_sequences_defog.npy', train_sequences)\n",
        "# np.save('sequences/train_targets_defog.npy', train_targets)\n",
        "# np.save('sequences/test_sequences_defog.npy', test_sequences)\n",
        "# np.save('sequences/test_targets_defog.npy', test_targets)"
      ]
    },
    {
      "cell_type": "code",
      "execution_count": 23,
      "metadata": {},
      "outputs": [],
      "source": [
        "from torch.utils.data import TensorDataset, DataLoader\n",
        "\n",
        "# load the sequence data\n",
        "train_sequences = np.load('sequences/train_sequences_tdcsfog.npy', allow_pickle=True)\n",
        "train_targets = np.load('sequences/train_targets_tdcsfog.npy', allow_pickle=True)\n",
        "# test_sequences = np.load('sequences/test_sequences_defog.npy', allow_pickle=True)\n",
        "# test_targets = np.load('sequences/test_targets_defog.npy', allow_pickle=True)"
      ]
    },
    {
      "cell_type": "code",
      "execution_count": 27,
      "metadata": {},
      "outputs": [],
      "source": [
        "# ensure the type of the data is correct\n",
        "train_sequences = train_sequences.astype(np.float16)\n",
        "train_targets = train_targets.astype(np.float16)\n",
        "# test_sequences = test_sequences.astype(np.float16)\n",
        "# test_targets = test_targets.astype(np.float16)\n",
        "\n",
        "train_sequences_tensor = torch.tensor(train_sequences, dtype=torch.float32)\n",
        "train_targets_tensor = torch.tensor(train_targets, dtype=torch.float32)\n",
        "\n",
        "# test_sequences_tensor = torch.tensor(test_sequences, dtype=torch.float32)\n",
        "# test_targets_tensor = torch.tensor(test_targets, dtype=torch.float32)\n",
        "\n",
        "train_dataset = TensorDataset(train_sequences_tensor, train_targets_tensor)\n",
        "# test_dataset = TensorDataset(test_sequences_tensor, test_targets_tensor)\n",
        "\n",
        "batch_size = 128\n",
        "\n",
        "train_loader = DataLoader(train_dataset, batch_size=batch_size, shuffle=False)\n",
        "# test_loader = DataLoader(test_dataset, batch_size=batch_size, shuffle=False)"
      ]
    },
    {
      "cell_type": "code",
      "execution_count": 28,
      "metadata": {},
      "outputs": [
        {
          "data": {
            "image/png": "[encoded data removed]",
            "text/plain": [
              "<Figure size 640x480 with 1 Axes>"
            ]
          },
          "metadata": {},
          "output_type": "display_data"
        },
        {
          "ename": "KeyboardInterrupt",
          "evalue": "",
          "output_type": "error",
          "traceback": [
            "\u001b[0;31m---------------------------------------------------------------------------\u001b[0m",
            "\u001b[0;31mKeyboardInterrupt\u001b[0m                         Traceback (most recent call last)",
            "Cell \u001b[0;32mIn[28], line 26\u001b[0m\n\u001b[1;32m     23\u001b[0m outputs \u001b[39m=\u001b[39m model(sequences)\n\u001b[1;32m     25\u001b[0m loss \u001b[39m=\u001b[39m criterion(outputs, targets)\n\u001b[0;32m---> 26\u001b[0m loss\u001b[39m.\u001b[39;49mbackward()\n\u001b[1;32m     28\u001b[0m \u001b[39m# Gradient clipping\u001b[39;00m\n\u001b[1;32m     29\u001b[0m torch\u001b[39m.\u001b[39mnn\u001b[39m.\u001b[39mutils\u001b[39m.\u001b[39mclip_grad_norm_(model\u001b[39m.\u001b[39mparameters(), clip_value)\n",
            "File \u001b[0;32m~/opt/anaconda3/envs/kaggle/lib/python3.11/site-packages/torch/_tensor.py:487\u001b[0m, in \u001b[0;36mTensor.backward\u001b[0;34m(self, gradient, retain_graph, create_graph, inputs)\u001b[0m\n\u001b[1;32m    477\u001b[0m \u001b[39mif\u001b[39;00m has_torch_function_unary(\u001b[39mself\u001b[39m):\n\u001b[1;32m    478\u001b[0m     \u001b[39mreturn\u001b[39;00m handle_torch_function(\n\u001b[1;32m    479\u001b[0m         Tensor\u001b[39m.\u001b[39mbackward,\n\u001b[1;32m    480\u001b[0m         (\u001b[39mself\u001b[39m,),\n\u001b[0;32m   (...)\u001b[0m\n\u001b[1;32m    485\u001b[0m         inputs\u001b[39m=\u001b[39minputs,\n\u001b[1;32m    486\u001b[0m     )\n\u001b[0;32m--> 487\u001b[0m torch\u001b[39m.\u001b[39;49mautograd\u001b[39m.\u001b[39;49mbackward(\n\u001b[1;32m    488\u001b[0m     \u001b[39mself\u001b[39;49m, gradient, retain_graph, create_graph, inputs\u001b[39m=\u001b[39;49minputs\n\u001b[1;32m    489\u001b[0m )\n",
            "File \u001b[0;32m~/opt/anaconda3/envs/kaggle/lib/python3.11/site-packages/torch/autograd/__init__.py:200\u001b[0m, in \u001b[0;36mbackward\u001b[0;34m(tensors, grad_tensors, retain_graph, create_graph, grad_variables, inputs)\u001b[0m\n\u001b[1;32m    195\u001b[0m     retain_graph \u001b[39m=\u001b[39m create_graph\n\u001b[1;32m    197\u001b[0m \u001b[39m# The reason we repeat same the comment below is that\u001b[39;00m\n\u001b[1;32m    198\u001b[0m \u001b[39m# some Python versions print out the first line of a multi-line function\u001b[39;00m\n\u001b[1;32m    199\u001b[0m \u001b[39m# calls in the traceback and some print out the last line\u001b[39;00m\n\u001b[0;32m--> 200\u001b[0m Variable\u001b[39m.\u001b[39;49m_execution_engine\u001b[39m.\u001b[39;49mrun_backward(  \u001b[39m# Calls into the C++ engine to run the backward pass\u001b[39;49;00m\n\u001b[1;32m    201\u001b[0m     tensors, grad_tensors_, retain_graph, create_graph, inputs,\n\u001b[1;32m    202\u001b[0m     allow_unreachable\u001b[39m=\u001b[39;49m\u001b[39mTrue\u001b[39;49;00m, accumulate_grad\u001b[39m=\u001b[39;49m\u001b[39mTrue\u001b[39;49;00m)\n",
            "\u001b[0;31mKeyboardInterrupt\u001b[0m: "
          ]
        }
      ],
      "source": [
        "import matplotlib.pyplot as plt\n",
        "from IPython.display import clear_output\n",
        "\n",
        "num_epochs = 8\n",
        "losses_epoch_train = []\n",
        "losses_epoch_val = []\n",
        "\n",
        "lr = 0.001\n",
        "clip_value = 1.0  # gradient clipping threshold\n",
        "\n",
        "for _ in range(num_epochs):\n",
        "    losses_per_epoch_val = []\n",
        "\n",
        "    optimizer = optim.Adam(model.parameters(), lr=lr)\n",
        "\n",
        "    losses_per_epoch_train = []\n",
        "    # Training loop\n",
        "    for sequences, targets in train_loader:\n",
        "        sequences = sequences.to(device)\n",
        "        targets = targets.to(device)\n",
        "\n",
        "        optimizer.zero_grad()\n",
        "        outputs = model(sequences)\n",
        "\n",
        "        loss = criterion(outputs, targets)\n",
        "        loss.backward()\n",
        "        \n",
        "        # Gradient clipping\n",
        "        torch.nn.utils.clip_grad_norm_(model.parameters(), clip_value)\n",
        "\n",
        "        optimizer.step()\n",
        "\n",
        "        losses_per_epoch_train.append(loss.item())\n",
        "    losses_epoch_train.append(np.mean(losses_per_epoch_train))\n",
        "\n",
        "    # # Validation loop\n",
        "    # for sequences, targets in test_loader:\n",
        "    #     sequences = sequences.to(device)\n",
        "    #     targets = targets.to(device)\n",
        "\n",
        "    #     with torch.no_grad():\n",
        "    #         outputs = model(sequences)\n",
        "    #         loss = criterion(outputs, targets)\n",
        "\n",
        "    #         losses_per_epoch_val.append(loss.item())\n",
        "    # losses_epoch_val.append(np.mean(losses_per_epoch_val))\n",
        "\n",
        "    clear_output(wait=True)\n",
        "    plt.plot(range(len(losses_epoch_train)), losses_epoch_train, label='Training Loss')\n",
        "    # plt.plot(range(len(losses_epoch_val)), losses_epoch_val, label='Validation Loss')\n",
        "    plt.legend()\n",
        "    plt.xlabel('Epoch')\n",
        "    plt.ylabel('Loss')\n",
        "    plt.show()"
      ]
    },
    {
      "attachments": {},
      "cell_type": "markdown",
      "metadata": {},
      "source": [
        "* MSE loss, s100, e30, b32, t0.018, v0.008\n",
        "* cross ent, s100, e30, b32, t0.02, v0.005\n",
        "* bce, s50, e50, b32, t0.085, v0.04\n",
        "* s50 increasing loss\n",
        "* s50 0.06 with train split defog with scaler\n",
        "* s100, no split, scaler, defog, batch 256, 80 epoch, learning got stuck\n",
        "* s25, bidirectional, 2 layers, 0.074\n",
        "\n",
        "Try encoding in the LSTM layer with 2 nodes. Remove scaling."
      ]
    },
    {
      "cell_type": "code",
      "execution_count": 29,
      "metadata": {},
      "outputs": [
        {
          "name": "stdout",
          "output_type": "stream",
          "text": [
            "lstm1.weight_ih_l0 tensor(True, device='mps:0') tensor(False, device='mps:0') tensor(-inf, device='mps:0')\n",
            "lstm1.weight_hh_l0 tensor(True, device='mps:0') tensor(False, device='mps:0') tensor(-inf, device='mps:0')\n",
            "lstm1.bias_ih_l0 tensor(True, device='mps:0') tensor(False, device='mps:0') tensor(-inf, device='mps:0')\n",
            "lstm1.bias_hh_l0 tensor(True, device='mps:0') tensor(False, device='mps:0') tensor(-inf, device='mps:0')\n",
            "lstm1.weight_ih_l0_reverse tensor(True, device='mps:0') tensor(False, device='mps:0') tensor(-inf, device='mps:0')\n",
            "lstm1.weight_hh_l0_reverse tensor(True, device='mps:0') tensor(False, device='mps:0') tensor(-inf, device='mps:0')\n",
            "lstm1.bias_ih_l0_reverse tensor(True, device='mps:0') tensor(False, device='mps:0') tensor(-inf, device='mps:0')\n",
            "lstm1.bias_hh_l0_reverse tensor(True, device='mps:0') tensor(False, device='mps:0') tensor(-inf, device='mps:0')\n",
            "layer_norm.weight tensor(True, device='mps:0') tensor(False, device='mps:0') tensor(-inf, device='mps:0')\n",
            "layer_norm.bias tensor(False, device='mps:0') tensor(False, device='mps:0') tensor(0.3028, device='mps:0')\n",
            "fc.weight tensor(False, device='mps:0') tensor(False, device='mps:0') tensor(0.1876, device='mps:0')\n",
            "fc.bias tensor(False, device='mps:0') tensor(False, device='mps:0') tensor(-0.7822, device='mps:0')\n"
          ]
        }
      ],
      "source": [
        "for name, param in model.state_dict().items():\n",
        "    print(name, torch.isnan(param).any(), torch.isinf(param).any(), param.max())"
      ]
    },
    {
      "cell_type": "code",
      "execution_count": null,
      "metadata": {},
      "outputs": [],
      "source": [
        "from pytorch_lightening.callbacks import ModelCheckpoint\n",
        "\n",
        "checkpoint_callback = ModelCheckpoint(dirpath='checkpoints', filename='lstm-{epoch:02d}-{val_loss:.2f}')\n",
        "\n",
        "trainer = pl.Trainer(gpus=1, max_epochs=10, callbacks=[checkpoint_callback])"
      ]
    },
    {
      "cell_type": "code",
      "execution_count": null,
      "metadata": {},
      "outputs": [],
      "source": [
        "import os\n",
        "\n",
        "# Create a directory to save the model weights\n",
        "model_dir = 'model_weights'\n",
        "if not os.path.exists(model_dir):\n",
        "    os.makedirs(model_dir)\n",
        "\n",
        "# save the model\n",
        "torch.save(model.state_dict(), os.path.join(model_dir, 'lstm_model_tdcsfog.pt'))"
      ]
    },
    {
      "cell_type": "code",
      "execution_count": null,
      "metadata": {},
      "outputs": [],
      "source": [
        "import gc\n",
        "import numpy as np\n",
        "\n",
        "def reduce_mem_usage(df, verbose=True):\n",
        "    numerics = ['int16', 'int32', 'int64', 'float16', 'float32', 'float64']\n",
        "    start_mem = df.memory_usage().sum() / 1024**2    \n",
        "    for col in df.columns:\n",
        "        col_type = df[col].dtypes\n",
        "        if col_type in numerics:\n",
        "            c_min = df[col].min()\n",
        "            c_max = df[col].max()\n",
        "            if str(col_type)[:3] == 'int':\n",
        "                if c_min > np.iinfo(np.int8).min and c_max < np.iinfo(np.int8).max:\n",
        "                    df[col] = df[col].astype(np.int8)\n",
        "                elif c_min > np.iinfo(np.int16).min and c_max < np.iinfo(np.int16).max:\n",
        "                    df[col] = df[col].astype(np.int16)\n",
        "                elif c_min > np.iinfo(np.int32).min and c_max < np.iinfo(np.int32).max:\n",
        "                    df[col] = df[col].astype(np.int32)\n",
        "                elif c_min > np.iinfo(np.int64).min and c_max < np.iinfo(np.int64).max:\n",
        "                    df[col] = df[col].astype(np.int64)  \n",
        "            else:\n",
        "                if c_min > np.finfo(np.float16).min and c_max < np.finfo(np.float16).max:\n",
        "                    df[col] = df[col].astype(np.float16)\n",
        "                elif c_min > np.finfo(np.float32).min and c_max < np.finfo(np.float32).max:\n",
        "                    df[col] = df[col].astype(np.float32)\n",
        "                else:\n",
        "                    df[col] = df[col].astype(np.float64)    \n",
        "        else:\n",
        "            df[col] = df[col].astype('category')\n",
        "\n",
        "    end_mem = df.memory_usage().sum() / 1024**2\n",
        "    if verbose: print('Mem. usage decreased to {:5.2f} Mb ({:.1f}% reduction)'.format(end_mem, 100 * (start_mem - end_mem) / start_mem))\n",
        "    return df"
      ]
    },
    {
      "cell_type": "code",
      "execution_count": null,
      "metadata": {},
      "outputs": [
        {
          "name": "stdout",
          "output_type": "stream",
          "text": [
            "02ab235146\n",
            "003f117e14\n"
          ]
        },
        {
          "ename": "TimeoutError",
          "evalue": "[Errno 60] Operation timed out",
          "output_type": "error",
          "traceback": [
            "\u001b[0;31m---------------------------------------------------------------------------\u001b[0m",
            "\u001b[0;31mTimeoutError\u001b[0m                              Traceback (most recent call last)",
            "Cell \u001b[0;32mIn[14], line 59\u001b[0m\n\u001b[1;32m     57\u001b[0m test_dfs \u001b[39m=\u001b[39m []\n\u001b[1;32m     58\u001b[0m \u001b[39mfor\u001b[39;00m folder \u001b[39min\u001b[39;00m folders:\n\u001b[0;32m---> 59\u001b[0m     test_dfs\u001b[39m.\u001b[39mappend(read_all_files_in_folder(\u001b[39mf\u001b[39;49m\u001b[39m'\u001b[39;49m\u001b[39m./test/\u001b[39;49m\u001b[39m{\u001b[39;49;00mfolder\u001b[39m}\u001b[39;49;00m\u001b[39m'\u001b[39;49m, \u001b[39mf\u001b[39;49m\u001b[39m'\u001b[39;49m\u001b[39m{\u001b[39;49;00mfolder\u001b[39m}\u001b[39;49;00m\u001b[39m'\u001b[39;49m))\n\u001b[1;32m     60\u001b[0m \u001b[39m# test_defog = read_all_files_in_folder('/kaggle/input/tlvmc-parkinsons-freezing-gait-prediction/test/defog', 'defog')\u001b[39;00m\n\u001b[1;32m     61\u001b[0m \u001b[39m# test_tdcsfog = read_all_files_in_folder('/kaggle/input/tlvmc-parkinsons-freezing-gait-prediction/test/tdcsfog', 'tdcsfog')\u001b[39;00m\n\u001b[1;32m     63\u001b[0m test_data \u001b[39m=\u001b[39m pd\u001b[39m.\u001b[39mconcat(test_dfs, ignore_index\u001b[39m=\u001b[39m\u001b[39mTrue\u001b[39;00m)\n",
            "Cell \u001b[0;32mIn[14], line 20\u001b[0m, in \u001b[0;36mread_all_files_in_folder\u001b[0;34m(folder_path, source)\u001b[0m\n\u001b[1;32m     18\u001b[0m \u001b[39mdef\u001b[39;00m \u001b[39mread_all_files_in_folder\u001b[39m(folder_path, source):\n\u001b[1;32m     19\u001b[0m     files \u001b[39m=\u001b[39m os\u001b[39m.\u001b[39mlistdir(folder_path)\n\u001b[0;32m---> 20\u001b[0m     data \u001b[39m=\u001b[39m pd\u001b[39m.\u001b[39mconcat([read_and_process_file(os\u001b[39m.\u001b[39;49mpath\u001b[39m.\u001b[39;49mjoin(folder_path, file), source) \u001b[39mfor\u001b[39;49;00m file \u001b[39min\u001b[39;49;00m files], ignore_index\u001b[39m=\u001b[39m\u001b[39mTrue\u001b[39;00m)\n\u001b[1;32m     21\u001b[0m     \u001b[39mreturn\u001b[39;00m data\n",
            "Cell \u001b[0;32mIn[14], line 20\u001b[0m, in \u001b[0;36m<listcomp>\u001b[0;34m(.0)\u001b[0m\n\u001b[1;32m     18\u001b[0m \u001b[39mdef\u001b[39;00m \u001b[39mread_all_files_in_folder\u001b[39m(folder_path, source):\n\u001b[1;32m     19\u001b[0m     files \u001b[39m=\u001b[39m os\u001b[39m.\u001b[39mlistdir(folder_path)\n\u001b[0;32m---> 20\u001b[0m     data \u001b[39m=\u001b[39m pd\u001b[39m.\u001b[39mconcat([read_and_process_file(os\u001b[39m.\u001b[39;49mpath\u001b[39m.\u001b[39;49mjoin(folder_path, file), source) \u001b[39mfor\u001b[39;00m file \u001b[39min\u001b[39;00m files], ignore_index\u001b[39m=\u001b[39m\u001b[39mTrue\u001b[39;00m)\n\u001b[1;32m     21\u001b[0m     \u001b[39mreturn\u001b[39;00m data\n",
            "Cell \u001b[0;32mIn[14], line 12\u001b[0m, in \u001b[0;36mread_and_process_file\u001b[0;34m(file_path, source)\u001b[0m\n\u001b[1;32m     10\u001b[0m file_name \u001b[39m=\u001b[39m os\u001b[39m.\u001b[39mpath\u001b[39m.\u001b[39msplitext(os\u001b[39m.\u001b[39mpath\u001b[39m.\u001b[39mbasename(file_path))[\u001b[39m0\u001b[39m]\n\u001b[1;32m     11\u001b[0m \u001b[39mprint\u001b[39m(file_name)\n\u001b[0;32m---> 12\u001b[0m data \u001b[39m=\u001b[39m pd\u001b[39m.\u001b[39;49mread_csv(file_path)\n\u001b[1;32m     13\u001b[0m data[\u001b[39m'\u001b[39m\u001b[39mId\u001b[39m\u001b[39m'\u001b[39m] \u001b[39m=\u001b[39m file_name \u001b[39m+\u001b[39m \u001b[39m'\u001b[39m\u001b[39m_\u001b[39m\u001b[39m'\u001b[39m \u001b[39m+\u001b[39m data[\u001b[39m'\u001b[39m\u001b[39mTime\u001b[39m\u001b[39m'\u001b[39m]\u001b[39m.\u001b[39mastype(\u001b[39mstr\u001b[39m)\n\u001b[1;32m     14\u001b[0m data[\u001b[39m'\u001b[39m\u001b[39mSource\u001b[39m\u001b[39m'\u001b[39m] \u001b[39m=\u001b[39m source\n",
            "File \u001b[0;32m~/opt/anaconda3/envs/kaggle/lib/python3.11/site-packages/pandas/io/parsers/readers.py:912\u001b[0m, in \u001b[0;36mread_csv\u001b[0;34m(filepath_or_buffer, sep, delimiter, header, names, index_col, usecols, dtype, engine, converters, true_values, false_values, skipinitialspace, skiprows, skipfooter, nrows, na_values, keep_default_na, na_filter, verbose, skip_blank_lines, parse_dates, infer_datetime_format, keep_date_col, date_parser, date_format, dayfirst, cache_dates, iterator, chunksize, compression, thousands, decimal, lineterminator, quotechar, quoting, doublequote, escapechar, comment, encoding, encoding_errors, dialect, on_bad_lines, delim_whitespace, low_memory, memory_map, float_precision, storage_options, dtype_backend)\u001b[0m\n\u001b[1;32m    899\u001b[0m kwds_defaults \u001b[39m=\u001b[39m _refine_defaults_read(\n\u001b[1;32m    900\u001b[0m     dialect,\n\u001b[1;32m    901\u001b[0m     delimiter,\n\u001b[0;32m   (...)\u001b[0m\n\u001b[1;32m    908\u001b[0m     dtype_backend\u001b[39m=\u001b[39mdtype_backend,\n\u001b[1;32m    909\u001b[0m )\n\u001b[1;32m    910\u001b[0m kwds\u001b[39m.\u001b[39mupdate(kwds_defaults)\n\u001b[0;32m--> 912\u001b[0m \u001b[39mreturn\u001b[39;00m _read(filepath_or_buffer, kwds)\n",
            "File \u001b[0;32m~/opt/anaconda3/envs/kaggle/lib/python3.11/site-packages/pandas/io/parsers/readers.py:577\u001b[0m, in \u001b[0;36m_read\u001b[0;34m(filepath_or_buffer, kwds)\u001b[0m\n\u001b[1;32m    574\u001b[0m _validate_names(kwds\u001b[39m.\u001b[39mget(\u001b[39m\"\u001b[39m\u001b[39mnames\u001b[39m\u001b[39m\"\u001b[39m, \u001b[39mNone\u001b[39;00m))\n\u001b[1;32m    576\u001b[0m \u001b[39m# Create the parser.\u001b[39;00m\n\u001b[0;32m--> 577\u001b[0m parser \u001b[39m=\u001b[39m TextFileReader(filepath_or_buffer, \u001b[39m*\u001b[39;49m\u001b[39m*\u001b[39;49mkwds)\n\u001b[1;32m    579\u001b[0m \u001b[39mif\u001b[39;00m chunksize \u001b[39mor\u001b[39;00m iterator:\n\u001b[1;32m    580\u001b[0m     \u001b[39mreturn\u001b[39;00m parser\n",
            "File \u001b[0;32m~/opt/anaconda3/envs/kaggle/lib/python3.11/site-packages/pandas/io/parsers/readers.py:1407\u001b[0m, in \u001b[0;36mTextFileReader.__init__\u001b[0;34m(self, f, engine, **kwds)\u001b[0m\n\u001b[1;32m   1404\u001b[0m     \u001b[39mself\u001b[39m\u001b[39m.\u001b[39moptions[\u001b[39m\"\u001b[39m\u001b[39mhas_index_names\u001b[39m\u001b[39m\"\u001b[39m] \u001b[39m=\u001b[39m kwds[\u001b[39m\"\u001b[39m\u001b[39mhas_index_names\u001b[39m\u001b[39m\"\u001b[39m]\n\u001b[1;32m   1406\u001b[0m \u001b[39mself\u001b[39m\u001b[39m.\u001b[39mhandles: IOHandles \u001b[39m|\u001b[39m \u001b[39mNone\u001b[39;00m \u001b[39m=\u001b[39m \u001b[39mNone\u001b[39;00m\n\u001b[0;32m-> 1407\u001b[0m \u001b[39mself\u001b[39m\u001b[39m.\u001b[39m_engine \u001b[39m=\u001b[39m \u001b[39mself\u001b[39;49m\u001b[39m.\u001b[39;49m_make_engine(f, \u001b[39mself\u001b[39;49m\u001b[39m.\u001b[39;49mengine)\n",
            "File \u001b[0;32m~/opt/anaconda3/envs/kaggle/lib/python3.11/site-packages/pandas/io/parsers/readers.py:1679\u001b[0m, in \u001b[0;36mTextFileReader._make_engine\u001b[0;34m(self, f, engine)\u001b[0m\n\u001b[1;32m   1676\u001b[0m     \u001b[39mraise\u001b[39;00m \u001b[39mValueError\u001b[39;00m(msg)\n\u001b[1;32m   1678\u001b[0m \u001b[39mtry\u001b[39;00m:\n\u001b[0;32m-> 1679\u001b[0m     \u001b[39mreturn\u001b[39;00m mapping[engine](f, \u001b[39m*\u001b[39;49m\u001b[39m*\u001b[39;49m\u001b[39mself\u001b[39;49m\u001b[39m.\u001b[39;49moptions)\n\u001b[1;32m   1680\u001b[0m \u001b[39mexcept\u001b[39;00m \u001b[39mException\u001b[39;00m:\n\u001b[1;32m   1681\u001b[0m     \u001b[39mif\u001b[39;00m \u001b[39mself\u001b[39m\u001b[39m.\u001b[39mhandles \u001b[39mis\u001b[39;00m \u001b[39mnot\u001b[39;00m \u001b[39mNone\u001b[39;00m:\n",
            "File \u001b[0;32m~/opt/anaconda3/envs/kaggle/lib/python3.11/site-packages/pandas/io/parsers/c_parser_wrapper.py:93\u001b[0m, in \u001b[0;36mCParserWrapper.__init__\u001b[0;34m(self, src, **kwds)\u001b[0m\n\u001b[1;32m     90\u001b[0m \u001b[39mif\u001b[39;00m kwds[\u001b[39m\"\u001b[39m\u001b[39mdtype_backend\u001b[39m\u001b[39m\"\u001b[39m] \u001b[39m==\u001b[39m \u001b[39m\"\u001b[39m\u001b[39mpyarrow\u001b[39m\u001b[39m\"\u001b[39m:\n\u001b[1;32m     91\u001b[0m     \u001b[39m# Fail here loudly instead of in cython after reading\u001b[39;00m\n\u001b[1;32m     92\u001b[0m     import_optional_dependency(\u001b[39m\"\u001b[39m\u001b[39mpyarrow\u001b[39m\u001b[39m\"\u001b[39m)\n\u001b[0;32m---> 93\u001b[0m \u001b[39mself\u001b[39m\u001b[39m.\u001b[39m_reader \u001b[39m=\u001b[39m parsers\u001b[39m.\u001b[39;49mTextReader(src, \u001b[39m*\u001b[39;49m\u001b[39m*\u001b[39;49mkwds)\n\u001b[1;32m     95\u001b[0m \u001b[39mself\u001b[39m\u001b[39m.\u001b[39munnamed_cols \u001b[39m=\u001b[39m \u001b[39mself\u001b[39m\u001b[39m.\u001b[39m_reader\u001b[39m.\u001b[39munnamed_cols\n\u001b[1;32m     97\u001b[0m \u001b[39m# error: Cannot determine type of 'names'\u001b[39;00m\n",
            "File \u001b[0;32m~/opt/anaconda3/envs/kaggle/lib/python3.11/site-packages/pandas/_libs/parsers.pyx:548\u001b[0m, in \u001b[0;36mpandas._libs.parsers.TextReader.__cinit__\u001b[0;34m()\u001b[0m\n",
            "File \u001b[0;32m~/opt/anaconda3/envs/kaggle/lib/python3.11/site-packages/pandas/_libs/parsers.pyx:637\u001b[0m, in \u001b[0;36mpandas._libs.parsers.TextReader._get_header\u001b[0;34m()\u001b[0m\n",
            "File \u001b[0;32m~/opt/anaconda3/envs/kaggle/lib/python3.11/site-packages/pandas/_libs/parsers.pyx:848\u001b[0m, in \u001b[0;36mpandas._libs.parsers.TextReader._tokenize_rows\u001b[0;34m()\u001b[0m\n",
            "File \u001b[0;32m~/opt/anaconda3/envs/kaggle/lib/python3.11/site-packages/pandas/_libs/parsers.pyx:859\u001b[0m, in \u001b[0;36mpandas._libs.parsers.TextReader._check_tokenize_status\u001b[0;34m()\u001b[0m\n",
            "File \u001b[0;32m~/opt/anaconda3/envs/kaggle/lib/python3.11/site-packages/pandas/_libs/parsers.pyx:2017\u001b[0m, in \u001b[0;36mpandas._libs.parsers.raise_parser_error\u001b[0;34m()\u001b[0m\n",
            "\u001b[0;31mTimeoutError\u001b[0m: [Errno 60] Operation timed out"
          ]
        }
      ],
      "source": [
        "import os\n",
        "import pandas as pd\n",
        "\n",
        "def unify_acceleration_units(data):\n",
        "    g_to_ms2 = 9.81\n",
        "    data.loc[data['Source'].isin(['defog', 'notype']), ['AccV', 'AccML', 'AccAP']] *= g_to_ms2\n",
        "    return data\n",
        "\n",
        "def read_and_process_file(file_path, source):\n",
        "    file_name = os.path.splitext(os.path.basename(file_path))[0]\n",
        "    print(file_name)\n",
        "    data = pd.read_csv(file_path)\n",
        "    data['Id'] = file_name + '_' + data['Time'].astype(str)\n",
        "    data['Source'] = source\n",
        "    data['SeriesId'] = file_name\n",
        "    return data\n",
        "\n",
        "def read_all_files_in_folder(folder_path, source):\n",
        "    files = os.listdir(folder_path)\n",
        "    data = pd.concat([read_and_process_file(os.path.join(folder_path, file), source) for file in files], ignore_index=True)\n",
        "    return data\n",
        "\n",
        "def apply_change_point_detection(data, columns=['AccV', 'AccML', 'AccAP'], pen=200, jump=200):\n",
        "\n",
        "    # Iterate through the unique SeriesId values\n",
        "    for series_id in data['SeriesId'].unique():\n",
        "        # Extract the data for the current SeriesId\n",
        "        series_data = data[data['SeriesId'] == series_id]\n",
        "        if len(series_data) > 9000:\n",
        "            downsample_factor = 50  # Modify this value to change the downsampling rate\n",
        "        if len(series_data) < 9000:\n",
        "            downsample_factor = 5\n",
        "        downsampled_data = series_data.iloc[::downsample_factor, :].reset_index(drop=True)\n",
        "\n",
        "        for col in columns:\n",
        "            signal = downsampled_data[col].values\n",
        "            algo = rpt.Pelt(model=\"rbf\", jump=jump).fit(signal)\n",
        "            result = algo.predict(pen=pen)\n",
        "            print(result)\n",
        "\n",
        "            if len(result) > 1:\n",
        "                for idx, (start, end) in enumerate(zip(result[:-1], result[1:])):\n",
        "                    if idx % 2 == 0:\n",
        "                        start_original = start * downsample_factor\n",
        "                        end_original = end * downsample_factor\n",
        "                        data.loc[(data['SeriesId'] == series_id) & data['Time'].between(start_original, end_original - 1), 'd' + col] = 1\n",
        "\n",
        "                # Check if there's an odd number of change points and if the last one is within 20% of the end of the data\n",
        "                if len(result) % 2 == 1 and result[-1] >= (0.8 * len(downsampled_data)):\n",
        "                    start_original = result[-1] * downsample_factor\n",
        "                    end_original = len(series_data)\n",
        "                    data.loc[(data['SeriesId'] == series_id) & data['Time'].between(start_original, end_original - 1), 'd' + col] = 1\n",
        "\n",
        "    return data\n",
        "\n",
        "folders = os.listdir('./test/')\n",
        "test_dfs = []\n",
        "for folder in folders:\n",
        "    test_dfs.append(read_all_files_in_folder(f'./test/{folder}', f'{folder}'))\n",
        "# test_defog = read_all_files_in_folder('/kaggle/input/tlvmc-parkinsons-freezing-gait-prediction/test/defog', 'defog')\n",
        "# test_tdcsfog = read_all_files_in_folder('/kaggle/input/tlvmc-parkinsons-freezing-gait-prediction/test/tdcsfog', 'tdcsfog')\n",
        "\n",
        "test_data = pd.concat(test_dfs, ignore_index=True)\n",
        "del test_dfs\n",
        "gc.collect()\n",
        "test_data = unify_acceleration_units(test_data)\n",
        "# test_data[['dAccV', 'dAccML', 'dAccAP']] = 0\n",
        "# test_data = apply_change_point_detection(test_data, pen=125, jump=300)\n",
        "\n",
        "# create some new features\n",
        "# test_data['AccAPdp'] = test_data['AccAP'] + test_data['dAccAP']\n",
        "# test_data['AccMLdp'] = test_data['AccML'] + test_data['dAccML']\n",
        "# test_data['AccVdc'] = test_data['AccV'] * test_data['dAccV']\n",
        "\n",
        "# drop the extra columns\n",
        "# test_data.drop(['dAccV', 'dAccML', 'dAccAP'], axis=1, inplace=True)\n",
        "\n",
        "test_data = test_data[['AccV', \n",
        "                       'AccML', \n",
        "                       'AccAP', \n",
        "#                        'AccAPdp', \n",
        "#                        'AccMLdp', \n",
        "#                        'AccVdc', \n",
        "                       'SeriesId',\n",
        "                       'Id',\n",
        "                       'Time',\n",
        "                      ]]\n",
        "test_data.reset_index(drop=True, inplace=True)\n",
        "# test_data = reduce_mem_usage(test_data)"
      ]
    },
    {
      "cell_type": "code",
      "execution_count": null,
      "metadata": {},
      "outputs": [],
      "source": [
        "# load model\n",
        "# model = torch.load('./model.pth')\n"
      ]
    },
    {
      "cell_type": "code",
      "execution_count": null,
      "metadata": {},
      "outputs": [
        {
          "ename": "NameError",
          "evalue": "name 'model' is not defined",
          "output_type": "error",
          "traceback": [
            "\u001b[0;31m---------------------------------------------------------------------------\u001b[0m",
            "\u001b[0;31mNameError\u001b[0m                                 Traceback (most recent call last)",
            "Cell \u001b[0;32mIn[1], line 9\u001b[0m\n\u001b[1;32m      6\u001b[0m     sequences \u001b[39m=\u001b[39m np\u001b[39m.\u001b[39marray(sequences)[:, :, :\u001b[39m3\u001b[39m]  \u001b[39m# Assuming 'AccV', 'AccML', 'AccAP' are the first 3 columns\u001b[39;00m\n\u001b[1;32m      7\u001b[0m     \u001b[39mreturn\u001b[39;00m sequences, time_info\n\u001b[0;32m----> 9\u001b[0m model\u001b[39m.\u001b[39meval()\n\u001b[1;32m     11\u001b[0m prediction_list \u001b[39m=\u001b[39m []\n\u001b[1;32m     12\u001b[0m time_info_list \u001b[39m=\u001b[39m []\n",
            "\u001b[0;31mNameError\u001b[0m: name 'model' is not defined"
          ]
        }
      ],
      "source": [
        "def create_test_sequences(data, seq_length):\n",
        "    sequences = [data.iloc[i:i + seq_length].values for i in range(len(data) - seq_length)]\n",
        "    time_info = [data.iloc[i + seq_length][['SeriesId', 'Time']] for i in range(len(data) - seq_length)]\n",
        "    sequences = np.array(sequences)[:, :, :3]\n",
        "    return sequences, time_info\n",
        "\n",
        "# Define your two models: model_short and model_long\n",
        "model_short = ...\n",
        "model_long = ...\n",
        "\n",
        "# Compute the median number of data points per series\n",
        "medians = test_data.groupby(\"SeriesId\").size().median()\n",
        "\n",
        "prediction_list = []\n",
        "time_info_list = []\n",
        "\n",
        "test_ids = test_data['SeriesId'].unique()\n",
        "\n",
        "for series_id in test_ids:\n",
        "\n",
        "    # Select a model depending on the length of the series\n",
        "    if len(test_data[test_data['SeriesId'] == series_id]) <= medians:\n",
        "        model = model_short\n",
        "    else:\n",
        "        model = model_long\n",
        "\n",
        "    model.eval()\n",
        "\n",
        "    series_data = test_data[test_data['SeriesId'] == series_id].drop(columns=['Id'])\n",
        "    sequences, time_info = create_test_sequences(series_data, seq_length)\n",
        "\n",
        "    sequences = np.array(sequences)\n",
        "    test_sequences = torch.tensor(sequences, dtype=torch.float32, device=device)\n",
        "\n",
        "    with torch.no_grad():\n",
        "        outputs = model(test_sequences)\n",
        "        output_probs = torch.sigmoid(outputs).cpu().numpy()\n",
        "\n",
        "    threshold = 0.5\n",
        "    y_pred = (output_probs > threshold).astype(int)\n",
        "    prediction_list.append(y_pred)\n",
        "    time_info_list.extend(time_info)\n",
        "\n",
        "all_predictions = np.concatenate(prediction_list, axis=0)\n",
        "\n",
        "time_info_df = pd.DataFrame(time_info_list, columns=['SeriesId', 'Time'])\n",
        "time_info_df['SeriesId_Time'] = time_info_df['SeriesId'].astype(str) + \"_\" + time_info_df['Time'].astype(str)\n",
        "\n",
        "predictions_df = pd.DataFrame(all_predictions, columns=['StartHesitation', 'Turn', 'Walking'])\n",
        "\n",
        "# Pad the start of the predictions DataFrame by seq_length\n",
        "predictions_df = pd.DataFrame(index=range(seq_length), columns=['StartHesitation', 'Turn', 'Walking']).append(predictions_df).reset_index(drop=True)\n",
        "\n",
        "# Interpolate the values for the targets\n",
        "for column in predictions_df.columns:\n",
        "    predictions_df[column] = pd.to_numeric(predictions_df[column])\n",
        "    predictions_df[column] = predictions_df[column].interpolate()\n",
        "\n",
        "# Verify the DataFrame\n",
        "print(predictions_df)\n",
        "\n",
        "result_df = pd.concat([time_info_df['SeriesId_Time'], predictions_df], axis=1)"
      ]
    },
    {
      "cell_type": "code",
      "execution_count": null,
      "metadata": {},
      "outputs": [],
      "source": [
        "# plot true vs predicted\n",
        "fig, ax = plt.subplots(3, 1, figsize=(20, 10))\n",
        "for i, col in enumerate(['StartHesitation', 'Turn', 'Walking']):\n",
        "    ax[i].scatter(range(len(result_df[col])), result_df[col], label='Predicted')\n",
        "    ax[i].scatter(range(len(test_data[test_data['SeriesId'] == 0][col].values)), test_data[test_data['SeriesId'] == 0][col].values, label='True')\n",
        "    ax[i].set_title(col)\n",
        "    ax[i].legend()\n",
        "plt.show()"
      ]
    },
    {
      "attachments": {},
      "cell_type": "markdown",
      "metadata": {},
      "source": [
        "* introduce padding in the predictions\n",
        "* variable sequence length\n",
        "* downsample the longer series so all are the same length then use batches, then in predicting I'll need to have kept track of the seriesids and times and interpolate between them\n",
        "* variable learning rate\n",
        "* folding and ensemble\n",
        "* unlabelled dataset"
      ]
    },
    {
      "cell_type": "markdown",
      "metadata": {},
      "source": []
    }
  ],
  "metadata": {
    "kernel_info": {
      "name": "python310-sdkv2"
    },
    "kernelspec": {
      "display_name": "kaggle",
      "language": "python",
      "name": "python3"
    },
    "language_info": {
      "codemirror_mode": {
        "name": "ipython",
        "version": 3
      },
      "file_extension": ".py",
      "mimetype": "text/x-python",
      "name": "python",
      "nbconvert_exporter": "python",
      "pygments_lexer": "ipython3",
      "version": "3.11.3"
    },
    "microsoft": {
      "ms_spell_check": {
        "ms_spell_check_language": "en"
      }
    },
    "nteract": {
      "version": "nteract-front-end@1.0.0"
    }
  },
  "nbformat": 4,
  "nbformat_minor": 2
}
